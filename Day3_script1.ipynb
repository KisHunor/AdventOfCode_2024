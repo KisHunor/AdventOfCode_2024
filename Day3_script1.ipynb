{
 "cells": [
  {
   "cell_type": "code",
   "execution_count": 50,
   "metadata": {},
   "outputs": [],
   "source": [
    "import numpy as np\n",
    "import pandas as pd\n",
    "import re"
   ]
  },
  {
   "cell_type": "code",
   "execution_count": 75,
   "metadata": {},
   "outputs": [],
   "source": [
    "#load data as a single text\n",
    "with open(\"Day3_input.txt\", 'r') as file:\n",
    "    text = file.read()\n"
   ]
  },
  {
   "cell_type": "markdown",
   "metadata": {},
   "source": [
    "### Task1"
   ]
  },
  {
   "cell_type": "code",
   "execution_count": 52,
   "metadata": {},
   "outputs": [
    {
     "name": "stdout",
     "output_type": "stream",
     "text": [
      "173529487\n"
     ]
    }
   ],
   "source": [
    "#remove unnecessary characters\n",
    "pattern = r\"mul\\(\\d+,\\d+\\)\"\n",
    "onlypattern = re.findall(pattern, text)\n",
    "\n",
    "#create a df of the numbers\n",
    "numbers = [(int(num) for num in re.findall(r'\\d+', item)) for item in onlypattern]\n",
    "df = pd.DataFrame(numbers, columns=['col1', 'col2'])\n",
    "#create multiplier column\n",
    "df['multiply'] = df['col1'] * df['col2']\n",
    "#check sum\n",
    "print(df['multiply'].sum())"
   ]
  },
  {
   "cell_type": "markdown",
   "metadata": {},
   "source": [
    "### Task2"
   ]
  },
  {
   "cell_type": "code",
   "execution_count": null,
   "metadata": {},
   "outputs": [
    {
     "name": "stdout",
     "output_type": "stream",
     "text": [
      "99532691\n"
     ]
    }
   ],
   "source": [
    "#remove linebreaks and sapces\n",
    "text = text.replace('\\n', ' ')\n",
    "#break down parts between do and dont parts\n",
    "cleaned_text = re.sub(r\"don't\\(.*?do\\(\\)\", \"\", text)\n",
    "#remove unnecessary characters\n",
    "pattern = r\"mul\\(\\d+,\\d+\\)\"\n",
    "onlypattern = re.findall(pattern, cleaned_text)\n",
    "\n",
    "#create a df of the numbers\n",
    "numbers = [(int(num) for num in re.findall(r'\\d+', item)) for item in onlypattern]\n",
    "df = pd.DataFrame(numbers, columns=['col1', 'col2'])\n",
    "df['multiply'] = df['col1'] * df['col2']\n",
    "\n",
    "print(df['multiply'].sum())"
   ]
  }
 ],
 "metadata": {
  "kernelspec": {
   "display_name": "Python 3",
   "language": "python",
   "name": "python3"
  },
  "language_info": {
   "codemirror_mode": {
    "name": "ipython",
    "version": 3
   },
   "file_extension": ".py",
   "mimetype": "text/x-python",
   "name": "python",
   "nbconvert_exporter": "python",
   "pygments_lexer": "ipython3",
   "version": "3.11.9"
  }
 },
 "nbformat": 4,
 "nbformat_minor": 2
}
