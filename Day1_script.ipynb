{
 "cells": [
  {
   "cell_type": "code",
   "execution_count": 1,
   "metadata": {},
   "outputs": [],
   "source": [
    "# import necessary packages\n",
    "import numpy as np\n",
    "import pandas as pd"
   ]
  },
  {
   "cell_type": "code",
   "execution_count": 62,
   "metadata": {},
   "outputs": [],
   "source": [
    "# read in the data\n",
    "\n",
    "data = pd.read_csv('Day1_input.txt', header=None, delim_whitespace=True)\n",
    "data.columns = ['list1','list2']"
   ]
  },
  {
   "cell_type": "markdown",
   "metadata": {},
   "source": [
    "### Task1"
   ]
  },
  {
   "cell_type": "code",
   "execution_count": 60,
   "metadata": {},
   "outputs": [
    {
     "name": "stdout",
     "output_type": "stream",
     "text": [
      "1388114\n"
     ]
    }
   ],
   "source": [
    "#sorting the data ascending\n",
    "list1 = data['list1'].sort_values().reset_index(drop=True)\n",
    "list2 = data['list2'].sort_values().reset_index(drop=True)\n",
    "\n",
    "\n",
    "#Loop through the lists and calculate the difference between the two numbers\n",
    "counter = 0\n",
    "for i in range(len(list1)):\n",
    "    distance = abs(list1[i] - list2[i])\n",
    "    counter += distance\n",
    "   \n",
    "print(counter)\n"
   ]
  },
  {
   "cell_type": "markdown",
   "metadata": {},
   "source": [
    "### Task2\n"
   ]
  },
  {
   "cell_type": "code",
   "execution_count": null,
   "metadata": {},
   "outputs": [
    {
     "name": "stdout",
     "output_type": "stream",
     "text": [
      "23529853\n"
     ]
    }
   ],
   "source": [
    "#Loop through each element of list1 and find how frequently it occurs in list2\n",
    "counter = 0 #initialize counter\n",
    "multiplier = 0 #initialize multiplier\n",
    "for i in range(len(list1)):\n",
    "    for j in range(len(list2)):\n",
    "        if list1[i] == list2[j]:\n",
    "            multiplier += 1\n",
    "    counter += list1[i]*multiplier\n",
    "    multiplier = 0\n",
    "print(counter)\n"
   ]
  }
 ],
 "metadata": {
  "kernelspec": {
   "display_name": "Python 3",
   "language": "python",
   "name": "python3"
  },
  "language_info": {
   "codemirror_mode": {
    "name": "ipython",
    "version": 3
   },
   "file_extension": ".py",
   "mimetype": "text/x-python",
   "name": "python",
   "nbconvert_exporter": "python",
   "pygments_lexer": "ipython3",
   "version": "3.11.9"
  }
 },
 "nbformat": 4,
 "nbformat_minor": 2
}
